{
  "nbformat": 4,
  "nbformat_minor": 0,
  "metadata": {
    "colab": {
      "name": "pdipm.ipynb",
      "provenance": [],
      "authorship_tag": "ABX9TyNuEvyzYPkGDXHOFKlV3RwU",
      "include_colab_link": true
    },
    "kernelspec": {
      "name": "python3",
      "display_name": "Python 3"
    }
  },
  "cells": [
    {
      "cell_type": "markdown",
      "metadata": {
        "id": "view-in-github",
        "colab_type": "text"
      },
      "source": [
        "<a href=\"https://colab.research.google.com/github/annechris13/Master-Thesis/blob/master/pdipm.ipynb\" target=\"_parent\"><img src=\"https://colab.research.google.com/assets/colab-badge.svg\" alt=\"Open In Colab\"/></a>"
      ]
    },
    {
      "cell_type": "code",
      "metadata": {
        "id": "RW72Blyw1922",
        "colab_type": "code",
        "colab": {}
      },
      "source": [
        "import torch\n",
        "import numpy as np\n",
        "import pandas as pd"
      ],
      "execution_count": 0,
      "outputs": []
    },
    {
      "cell_type": "code",
      "metadata": {
        "id": "8Lpy6-HQ2ErN",
        "colab_type": "code",
        "colab": {}
      },
      "source": [
        "#example problem - 2 batches , 2 variable qp\n",
        "nbatch=2\n",
        "nBatch=nbatch\n",
        "nx=2\n",
        "nineq=2\n",
        "neq=1\n",
        "#to do: extract dimensions from problem parameters + check/add batch dimension\n",
        "Q=torch.tensor([[4,1,1,2],[6,2,2,2]]).view(nbatch,nx,nx).type(torch.DoubleTensor)\n",
        "p=torch.tensor([[1,1],[1,6]]).view(nbatch,nx).type(torch.DoubleTensor)\n",
        "G=torch.tensor([[-1,0,0,-1],[-1,0,0,-1]]).view(nbatch,nineq,nx).type(torch.DoubleTensor)\n",
        "h=torch.tensor([[0,0],[0,0]]).view(nbatch,nineq).type(torch.DoubleTensor)\n",
        "A=torch.tensor([[1,1],[2,3]]).view(nbatch,neq,nx).type(torch.DoubleTensor)\n",
        "b=torch.tensor([[1],[4]]).view(nbatch,neq).type(torch.DoubleTensor)"
      ],
      "execution_count": 0,
      "outputs": []
    },
    {
      "cell_type": "code",
      "metadata": {
        "id": "8OBoEaK52Szk",
        "colab_type": "code",
        "colab": {}
      },
      "source": [
        "#check if Q is psd:\n",
        "for i in range(nbatch):\n",
        "  e,_=torch.eig(Q[i])\n",
        "  if not torch.all(e[:,0]>0):\n",
        "    raise RuntimeError(\"Q is not PSD\")"
      ],
      "execution_count": 0,
      "outputs": []
    },
    {
      "cell_type": "code",
      "metadata": {
        "id": "2Tb-4GMN2cHd",
        "colab_type": "code",
        "colab": {}
      },
      "source": [
        "def lu_hack(x):\n",
        "    data, pivots = x.lu(pivot=not x.is_cuda)\n",
        "    if x.is_cuda:\n",
        "        if x.ndimension() == 2:\n",
        "            pivots = torch.arange(1, 1+x.size(0)).int().cuda()\n",
        "        elif x.ndimension() == 3:\n",
        "            pivots = torch.arange(\n",
        "                1, 1+x.size(1),\n",
        "            ).unsqueeze(0).repeat(x.size(0), 1).int().cuda()\n",
        "        else:\n",
        "            assert False\n",
        "    return (data, pivots)"
      ],
      "execution_count": 0,
      "outputs": []
    },
    {
      "cell_type": "code",
      "metadata": {
        "id": "fFQ6FkJ62yFh",
        "colab_type": "code",
        "colab": {}
      },
      "source": [
        "def bdiag(d):\n",
        "    nBatch, sz = d.size()\n",
        "    D = torch.zeros(nBatch, sz, sz).type_as(d)\n",
        "    I = torch.eye(sz).repeat(nBatch, 1, 1).type_as(d).bool()\n",
        "    D[I] = d.squeeze().view(-1)\n",
        "    return D"
      ],
      "execution_count": 0,
      "outputs": []
    },
    {
      "cell_type": "code",
      "metadata": {
        "id": "tNYAn_fc23kt",
        "colab_type": "code",
        "colab": {}
      },
      "source": [
        "def get_Hessian(Q,G,A):\n",
        "    nbatch,nineq,nx=G.size()\n",
        "    neq=A.size()[1]\n",
        "    B1=torch.zeros(nbatch,nx+nineq,nx+nineq).type_as(Q)\n",
        "    B3=torch.zeros(nbatch,neq+nineq,nx+nineq).type_as(Q)\n",
        "    B4=torch.zeros(nbatch,neq+nineq,neq+nineq).type_as(Q)\n",
        "\n",
        "    B1[:,:nx,:nx]=Q\n",
        "    B1[:,-nineq:,-nineq:]=torch.eye(nineq).repeat(nbatch,1,1).type_as(Q)\n",
        "\n",
        "    B3[:,:nineq,:nx]=G\n",
        "    B3[:,-neq:,:nx]=A\n",
        "    B3[:,:nineq,nineq:]=torch.eye(nineq).repeat(nbatch,1,1).type_as(Q)\n",
        "\n",
        "    B2=torch.transpose(B3, dim0=2, dim1=1)\n",
        "\n",
        "    H=torch.cat((torch.cat((B1,B2),dim=2),torch.cat((B3,B4),dim=2)),dim=1)\n",
        "  \n",
        "    return H"
      ],
      "execution_count": 0,
      "outputs": []
    },
    {
      "cell_type": "code",
      "metadata": {
        "id": "nnl836f27g8P",
        "colab_type": "code",
        "colab": {}
      },
      "source": [
        "def solve_kkt(H,rx,rs,rz,ry,d=None):\n",
        "    if d!=None:\n",
        "      D=bdiag(d)\n",
        "      H[:,nx:nx+nineq,nx:nx+nineq]=D\n",
        "    \n",
        "    F=torch.cat((rx,rs,rz,ry), dim=1).unsqueeze(2)\n",
        "    H_lu,H_piv= lu_hack(H)\n",
        "    step=F.lu_solve(H_lu,H_piv)\n",
        "\n",
        "    rx=step[:,:nx,:]\n",
        "    rs=step[:,nx:nx+nineq,:]\n",
        "    rz=step[:,nx+nineq:-neq,:]\n",
        "    ry=step[:,-neq:,:]\n",
        "    return(rx,rs,rz,ry)"
      ],
      "execution_count": 0,
      "outputs": []
    },
    {
      "cell_type": "code",
      "metadata": {
        "id": "ZPJnxaofU0tv",
        "colab_type": "code",
        "colab": {}
      },
      "source": [
        "def get_step(v, dv):\n",
        "    a = -v / dv\n",
        "    a[dv > 0] = max(1.0, a.max())\n",
        "    return a.min(1)[0].squeeze()"
      ],
      "execution_count": 0,
      "outputs": []
    },
    {
      "cell_type": "code",
      "metadata": {
        "id": "MA7V4dfF5BDD",
        "colab_type": "code",
        "colab": {
          "base_uri": "https://localhost:8080/",
          "height": 272
        },
        "outputId": "e6abfaf4-519c-4efb-b00f-247bb159978d"
      },
      "source": [
        "H=get_Hessian(Q,G,A)\n",
        "A_T=torch.transpose(A,dim0=2,dim1=1)\n",
        "G_T=torch.transpose(G,dim0=2,dim1=1)\n",
        "#initial solution\n",
        "x,s,z,y=solve_kkt(H,-p,torch.zeros(nbatch,nineq).type_as(Q),h,b)\n",
        "print(x,s,z,y)"
      ],
      "execution_count": 88,
      "outputs": [
        {
          "output_type": "stream",
          "text": [
            "tensor([[[0.3333],\n",
            "         [0.6667]],\n",
            "\n",
            "        [[0.5294],\n",
            "         [0.9804]]], dtype=torch.float64) tensor([[[0.3333],\n",
            "         [0.6667]],\n",
            "\n",
            "        [[0.5294],\n",
            "         [0.9804]]], dtype=torch.float64) tensor([[[-0.3333],\n",
            "         [-0.6667]],\n",
            "\n",
            "        [[-0.5294],\n",
            "         [-0.9804]]], dtype=torch.float64) tensor([[[-3.3333]],\n",
            "\n",
            "        [[-3.3333]]], dtype=torch.float64)\n"
          ],
          "name": "stdout"
        }
      ]
    },
    {
      "cell_type": "code",
      "metadata": {
        "id": "ntri_8mOH_VI",
        "colab_type": "code",
        "colab": {}
      },
      "source": [
        "rx= -(torch.bmm(A_T,y)+torch.bmm(G_T,z)+torch.bmm(Q,x)+p.unsqueeze(2)).squeeze(2)\n",
        "rs=-z.squeeze(2)\n",
        "rz=-(torch.bmm(G,x)+s-h.unsqueeze(2)).squeeze(2)\n",
        "ry=-(torch.bmm(A,x)-b.unsqueeze(2)).squeeze(2)\n",
        "d=z.squeeze(2)/s.squeeze(2)\n",
        "dx_aff,ds_aff,dz_aff,dy_aff=solve_kkt(H,rx,rs,rz,ry,d)"
      ],
      "execution_count": 0,
      "outputs": []
    },
    {
      "cell_type": "code",
      "metadata": {
        "id": "BDZFnnSOSdoG",
        "colab_type": "code",
        "colab": {
          "base_uri": "https://localhost:8080/",
          "height": 289
        },
        "outputId": "ac193713-c9ae-487a-ce59-9185858a60e1"
      },
      "source": [
        "alpha = torch.min(torch.min(get_step(z.squeeze(2), dz_aff.squeeze(2)),\n",
        "                                    get_step(s.squeeze(2), ds_aff.squeeze(2))),\n",
        "                          torch.ones(nBatch).type_as(Q))\n",
        "print(alpha)\n",
        "alpha_nineq = alpha.repeat(nineq, 1).t().unsque\n",
        "alpha_neq = alpha.repeat(neq, 1).t() if neq > 0 else None\n",
        "alpha_nx = alpha.repeat(nx, 1).t()\n",
        "print(x,s,z,y)"
      ],
      "execution_count": 95,
      "outputs": [
        {
          "output_type": "stream",
          "text": [
            "tensor([1., 1.], dtype=torch.float64)\n",
            "tensor([[[0.3333],\n",
            "         [0.6667]],\n",
            "\n",
            "        [[0.5294],\n",
            "         [0.9804]]], dtype=torch.float64) tensor([[[0.3333],\n",
            "         [0.6667]],\n",
            "\n",
            "        [[0.5294],\n",
            "         [0.9804]]], dtype=torch.float64) tensor([[[-0.3333],\n",
            "         [-0.6667]],\n",
            "\n",
            "        [[-0.5294],\n",
            "         [-0.9804]]], dtype=torch.float64) tensor([[[-3.3333]],\n",
            "\n",
            "        [[-3.3333]]], dtype=torch.float64)\n"
          ],
          "name": "stdout"
        }
      ]
    },
    {
      "cell_type": "code",
      "metadata": {
        "id": "S63UdqzF6cTL",
        "colab_type": "code",
        "colab": {
          "base_uri": "https://localhost:8080/",
          "height": 1000
        },
        "outputId": "1421cdc4-513f-4379-bdbc-128ed559ea44"
      },
      "source": [
        "#main iterations\n",
        "max_iter=25\n",
        "#only affine steps now\n",
        "\n",
        "for i in range(max_iter):\n",
        "    rx= -(torch.bmm(A_T,y)+torch.bmm(G_T,z)+torch.bmm(Q,x)+p.unsqueeze(2)).squeeze(2)\n",
        "    rs=-z.squeeze(2)\n",
        "    rz=-(torch.bmm(G,x)+s-h.unsqueeze(2)).squeeze(2)\n",
        "    ry=-(torch.bmm(A,x)-b.unsqueeze(2)).squeeze(2)\n",
        "    d=z.squeeze(2)/s.squeeze(2)\n",
        "\n",
        "    #affine step calculation\n",
        "    dx,ds,dz,dy=solve_kkt(H,rx,rs,rz,ry,d)\n",
        "\n",
        "    #step size calculation\n",
        "    alpha = torch.min(torch.min(get_step(z.squeeze(2), dz_aff.squeeze(2)),\n",
        "                                    get_step(s.squeeze(2), ds_aff.squeeze(2))),\n",
        "                          torch.ones(nBatch).type_as(Q))\n",
        "    print(alpha)\n",
        "    alpha_nineq = alpha.repeat(nineq, 1).t().unsqueeze(2)\n",
        "    alpha_neq = alpha.repeat(neq, 1).t().unsqueeze(2) if neq > 0 else None\n",
        "    alpha_nx = alpha.repeat(nx, 1).t().unsqueeze(2)\n",
        "\n",
        "    #update step\n",
        "    x+=alpha_nx*dx\n",
        "    s+=alpha_nineq*ds\n",
        "    z+=alpha_nineq*dz\n",
        "    y+=alpha_neq*dy\n",
        "\n",
        "    print(x)\n"
      ],
      "execution_count": 98,
      "outputs": [
        {
          "output_type": "stream",
          "text": [
            "tensor([1., 1.], dtype=torch.float64)\n",
            "tensor([[[0.2500],\n",
            "         [0.7500]],\n",
            "\n",
            "        [[0.5000],\n",
            "         [1.0000]]], dtype=torch.float64)\n",
            "tensor([1., 1.], dtype=torch.float64)\n",
            "tensor([[[0.2500],\n",
            "         [0.7500]],\n",
            "\n",
            "        [[0.5000],\n",
            "         [1.0000]]], dtype=torch.float64)\n",
            "tensor([1., 1.], dtype=torch.float64)\n",
            "tensor([[[0.2500],\n",
            "         [0.7500]],\n",
            "\n",
            "        [[0.5000],\n",
            "         [1.0000]]], dtype=torch.float64)\n",
            "tensor([1., 1.], dtype=torch.float64)\n",
            "tensor([[[0.2500],\n",
            "         [0.7500]],\n",
            "\n",
            "        [[0.5000],\n",
            "         [1.0000]]], dtype=torch.float64)\n",
            "tensor([1., 1.], dtype=torch.float64)\n",
            "tensor([[[0.2500],\n",
            "         [0.7500]],\n",
            "\n",
            "        [[0.5000],\n",
            "         [1.0000]]], dtype=torch.float64)\n",
            "tensor([1., 1.], dtype=torch.float64)\n",
            "tensor([[[0.2500],\n",
            "         [0.7500]],\n",
            "\n",
            "        [[0.5000],\n",
            "         [1.0000]]], dtype=torch.float64)\n",
            "tensor([1., 1.], dtype=torch.float64)\n",
            "tensor([[[0.2500],\n",
            "         [0.7500]],\n",
            "\n",
            "        [[0.5000],\n",
            "         [1.0000]]], dtype=torch.float64)\n",
            "tensor([1., 1.], dtype=torch.float64)\n",
            "tensor([[[0.2500],\n",
            "         [0.7500]],\n",
            "\n",
            "        [[0.5000],\n",
            "         [1.0000]]], dtype=torch.float64)\n",
            "tensor([1., 1.], dtype=torch.float64)\n",
            "tensor([[[0.2500],\n",
            "         [0.7500]],\n",
            "\n",
            "        [[0.5000],\n",
            "         [1.0000]]], dtype=torch.float64)\n",
            "tensor([1., 1.], dtype=torch.float64)\n",
            "tensor([[[0.2500],\n",
            "         [0.7500]],\n",
            "\n",
            "        [[0.5000],\n",
            "         [1.0000]]], dtype=torch.float64)\n",
            "tensor([1., 1.], dtype=torch.float64)\n",
            "tensor([[[0.2500],\n",
            "         [0.7500]],\n",
            "\n",
            "        [[0.5000],\n",
            "         [1.0000]]], dtype=torch.float64)\n",
            "tensor([1., 1.], dtype=torch.float64)\n",
            "tensor([[[0.2500],\n",
            "         [0.7500]],\n",
            "\n",
            "        [[0.5000],\n",
            "         [1.0000]]], dtype=torch.float64)\n",
            "tensor([1., 1.], dtype=torch.float64)\n",
            "tensor([[[0.2500],\n",
            "         [0.7500]],\n",
            "\n",
            "        [[0.5000],\n",
            "         [1.0000]]], dtype=torch.float64)\n",
            "tensor([1., 1.], dtype=torch.float64)\n",
            "tensor([[[0.2500],\n",
            "         [0.7500]],\n",
            "\n",
            "        [[0.5000],\n",
            "         [1.0000]]], dtype=torch.float64)\n",
            "tensor([1., 1.], dtype=torch.float64)\n",
            "tensor([[[0.2500],\n",
            "         [0.7500]],\n",
            "\n",
            "        [[0.5000],\n",
            "         [1.0000]]], dtype=torch.float64)\n",
            "tensor([1., 1.], dtype=torch.float64)\n",
            "tensor([[[0.2500],\n",
            "         [0.7500]],\n",
            "\n",
            "        [[0.5000],\n",
            "         [1.0000]]], dtype=torch.float64)\n",
            "tensor([1., 1.], dtype=torch.float64)\n",
            "tensor([[[0.2500],\n",
            "         [0.7500]],\n",
            "\n",
            "        [[0.5000],\n",
            "         [1.0000]]], dtype=torch.float64)\n",
            "tensor([1., 1.], dtype=torch.float64)\n",
            "tensor([[[0.2500],\n",
            "         [0.7500]],\n",
            "\n",
            "        [[0.5000],\n",
            "         [1.0000]]], dtype=torch.float64)\n",
            "tensor([1., 1.], dtype=torch.float64)\n",
            "tensor([[[0.2500],\n",
            "         [0.7500]],\n",
            "\n",
            "        [[0.5000],\n",
            "         [1.0000]]], dtype=torch.float64)\n",
            "tensor([1., 1.], dtype=torch.float64)\n",
            "tensor([[[0.2500],\n",
            "         [0.7500]],\n",
            "\n",
            "        [[0.5000],\n",
            "         [1.0000]]], dtype=torch.float64)\n",
            "tensor([1., 1.], dtype=torch.float64)\n",
            "tensor([[[0.2500],\n",
            "         [0.7500]],\n",
            "\n",
            "        [[0.5000],\n",
            "         [1.0000]]], dtype=torch.float64)\n",
            "tensor([1., 1.], dtype=torch.float64)\n",
            "tensor([[[0.2500],\n",
            "         [0.7500]],\n",
            "\n",
            "        [[0.5000],\n",
            "         [1.0000]]], dtype=torch.float64)\n",
            "tensor([1., 1.], dtype=torch.float64)\n",
            "tensor([[[0.2500],\n",
            "         [0.7500]],\n",
            "\n",
            "        [[0.5000],\n",
            "         [1.0000]]], dtype=torch.float64)\n",
            "tensor([1., 1.], dtype=torch.float64)\n",
            "tensor([[[0.2500],\n",
            "         [0.7500]],\n",
            "\n",
            "        [[0.5000],\n",
            "         [1.0000]]], dtype=torch.float64)\n",
            "tensor([1., 1.], dtype=torch.float64)\n",
            "tensor([[[0.2500],\n",
            "         [0.7500]],\n",
            "\n",
            "        [[0.5000],\n",
            "         [1.0000]]], dtype=torch.float64)\n"
          ],
          "name": "stdout"
        }
      ]
    },
    {
      "cell_type": "code",
      "metadata": {
        "id": "I8A7yrB8VxnZ",
        "colab_type": "code",
        "colab": {}
      },
      "source": [
        ""
      ],
      "execution_count": 0,
      "outputs": []
    }
  ]
}